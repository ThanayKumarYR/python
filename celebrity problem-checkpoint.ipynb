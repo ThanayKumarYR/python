{
 "cells": [
  {
   "cell_type": "code",
   "execution_count": null,
   "id": "20066a76",
   "metadata": {},
   "outputs": [],
   "source": [
    "def eliminate_non_celebrities(matrix, n):\n",
    "    \"\"\"Take an n x n matrix that has m[i][j] = True iff i knows j and return\n",
    "    person who is maybe a celebrity.\"\"\"\n",
    "    possible_celebrity = 0\n",
    "    n = len(matrix)\n",
    "    for p in range(1, n):\n",
    "        if (matrix[possible_celebrity][p]\n",
    "                or not matrix[p][possible_celebrity]):\n",
    "            possible_celebrity = p\n",
    "    return possible_celebrity\n",
    "\n",
    "\n",
    "def check_if_celebrity(possible_celebrity, matrix, n):\n",
    "    \"\"\"Take an n x n matrix that has m[i][j] = True iff i knows j and return\n",
    "    True if possible_celeb is a celebrity.\"\"\"\n",
    "    for i in range(n):\n",
    "        if matrix[possible_celebrity][i] is True:\n",
    "            return False\n",
    "\n",
    "    for i in range(n):\n",
    "        if matrix[i][possible_celebrity] is False:\n",
    "            if i != possible_celebrity:\n",
    "                return False\n",
    "\n",
    "    return True\n",
    "\n",
    "def user_input():\n",
    "    n = int(input('Number of people: '))\n",
    "    m = []\n",
    "    for i in range(n):\n",
    "        m.append([False]*n)\n",
    "        \n",
    "    for i in range(n):\n",
    "        people = input(f'Enter list of people known to {i}: ').split()\n",
    "        for p in people:\n",
    "            p = int(p)\n",
    "            m[i][p] = True\n",
    "    possible_celebrity = eliminate_non_celebrities(m, n)\n",
    "    \n",
    "    if check_if_celebrity(possible_celebrity, m, n):\n",
    "        print(f'{possible_celebrity} is the celebrity.')\n",
    "    else:\n",
    "        print('There is no celebrity.')\n",
    "        \n",
    "if __name__ == \"__main__\":\n",
    "    user_input()"
   ]
  }
 ],
 "metadata": {
  "kernelspec": {
   "display_name": "Python 3",
   "language": "python",
   "name": "python3"
  },
  "language_info": {
   "codemirror_mode": {
    "name": "ipython",
    "version": 3
   },
   "file_extension": ".py",
   "mimetype": "text/x-python",
   "name": "python",
   "nbconvert_exporter": "python",
   "pygments_lexer": "ipython3",
   "version": "3.8.8"
  }
 },
 "nbformat": 4,
 "nbformat_minor": 5
}
