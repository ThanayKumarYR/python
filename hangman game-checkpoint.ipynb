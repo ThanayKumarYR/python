{
 "cells": [
  {
   "cell_type": "code",
   "execution_count": null,
   "id": "dcd455b5",
   "metadata": {},
   "outputs": [],
   "source": [
    "def play_hangman():\n",
    "    name = input(\"What is your name? \")\n",
    "    print(f\"Hello {name}, Time to play hangman!\")\n",
    "    print(\"Start guessing...\")\n",
    "    print(\"HINT: word is the name of a fruit\\n\")\n",
    "    word = \"apple\"\n",
    "    guesses = \"\"\n",
    "    turns = len(word) + 2\n",
    "    while turns > 0:\n",
    "        failed = 0\n",
    "        for char in word:\n",
    "            if char in guesses:\n",
    "                print(char)\n",
    "            else:\n",
    "                print(\"_\")\n",
    "                failed += 1\n",
    "        if failed == 0:\n",
    "            print(\"You won the game :-)\")\n",
    "            break\n",
    "        guess = input(\"Guess a character: \")\n",
    "        \n",
    "        guesses += guess\n",
    "    \n",
    "        if guess not in word:\n",
    "            turns -= 1\n",
    "            print(\"Wrong guess\")\n",
    "            print(f\"You have {turns} more guesses\")\n",
    "\n",
    "        if turns == 0:\n",
    "            print(\"You lost the game :-(\")\n",
    "\n",
    "\n",
    "if __name__ == \"__main__\":\n",
    "    play_hangman()"
   ]
  }
 ],
 "metadata": {
  "kernelspec": {
   "display_name": "Python 3",
   "language": "python",
   "name": "python3"
  },
  "language_info": {
   "codemirror_mode": {
    "name": "ipython",
    "version": 3
   },
   "file_extension": ".py",
   "mimetype": "text/x-python",
   "name": "python",
   "nbconvert_exporter": "python",
   "pygments_lexer": "ipython3",
   "version": "3.8.8"
  }
 },
 "nbformat": 4,
 "nbformat_minor": 5
}
