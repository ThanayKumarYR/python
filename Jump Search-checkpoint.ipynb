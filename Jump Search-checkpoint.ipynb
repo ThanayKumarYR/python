{
 "cells": [
  {
   "cell_type": "code",
   "execution_count": null,
   "id": "9a09d6e4",
   "metadata": {},
   "outputs": [],
   "source": [
    "import math\n",
    "\n",
    "def jump_search(list_of_numbers, key):\n",
    "    list_length = len(list_of_numbers)\n",
    "\n",
    "    jump = int(math.sqrt(list_length))\n",
    "\n",
    "    left, right = 0, 0  \n",
    "    while left < list_length and list_of_numbers[left] <= key:\n",
    "        right = min(list_length - 1, left + jump)\n",
    "        if list_of_numbers[left] <= key <= list_of_numbers[right]:\n",
    "            break\n",
    "        left += jump\n",
    "\n",
    "    if left >= list_length or list_of_numbers[left] > key:\n",
    "        return -1\n",
    "\n",
    "    right = min(list_length - 1, right)\n",
    "    i = left\n",
    "    while i <= right and list_of_numbers[i] <= key:\n",
    "        if list_of_numbers[i] == key:\n",
    "            return i  \n",
    "        i += 1\n",
    "\n",
    "    return -1\n",
    "\n",
    "\n",
    "def user_input():\n",
    "    list_of_numbers = list()\n",
    "    total_elements = input(\"Enter a list of numbers in ascending order with space between each other: \").split()\n",
    "    for each_element in range(len(total_elements)):\n",
    "        list_of_numbers.append(int(total_elements[each_element]))\n",
    "\n",
    "    key = int(input(\"Enter the Key number to search: \"))\n",
    "\n",
    "    index = jump_search(list_of_numbers, key)\n",
    "    if index == -1:\n",
    "        print(\"Entered key is not present\")\n",
    "    else:\n",
    "        print(f\"Key number {key} is found in Position {index + 1}\")\n",
    "\n",
    "\n",
    "if __name__ == \"__main__\":\n",
    "    user_input()"
   ]
  }
 ],
 "metadata": {
  "kernelspec": {
   "display_name": "Python 3",
   "language": "python",
   "name": "python3"
  },
  "language_info": {
   "codemirror_mode": {
    "name": "ipython",
    "version": 3
   },
   "file_extension": ".py",
   "mimetype": "text/x-python",
   "name": "python",
   "nbconvert_exporter": "python",
   "pygments_lexer": "ipython3",
   "version": "3.8.8"
  }
 },
 "nbformat": 4,
 "nbformat_minor": 5
}
